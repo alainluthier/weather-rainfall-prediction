{
 "cells": [
  {
   "cell_type": "code",
   "execution_count": 13,
   "metadata": {},
   "outputs": [],
   "source": [
    "#Importing libraries\n",
    "import numpy as np\n",
    "import pandas as pd\n",
    "from sklearn.metrics import confusion_matrix, accuracy_score,precision_score,recall_score,f1_score\n",
    "import seaborn as sns\n",
    "from sklearn.preprocessing import StandardScaler\n",
    "from sklearn.preprocessing import LabelEncoder\n",
    "from sklearn.model_selection import train_test_split\n",
    "import tensorflow as tf\n",
    "from tensorflow import keras\n",
    "from tensorflow.keras.models import Sequential\n",
    "from tensorflow.keras.layers import Dense, Dropout\n",
    "from tensorflow.keras.callbacks import EarlyStopping\n",
    "from sklearn.neighbors import KNeighborsClassifier\n",
    "from sklearn.tree import DecisionTreeClassifier\n",
    "from sklearn.ensemble import RandomForestClassifier\n",
    "from sklearn import svm\n",
    "from sklearn.model_selection import RandomizedSearchCV\n",
    "import kerastuner as kt\n",
    "import joblib"
   ]
  },
  {
   "cell_type": "code",
   "execution_count": 14,
   "metadata": {},
   "outputs": [
    {
     "data": {
      "text/html": [
       "<div>\n",
       "<style scoped>\n",
       "    .dataframe tbody tr th:only-of-type {\n",
       "        vertical-align: middle;\n",
       "    }\n",
       "\n",
       "    .dataframe tbody tr th {\n",
       "        vertical-align: top;\n",
       "    }\n",
       "\n",
       "    .dataframe thead th {\n",
       "        text-align: right;\n",
       "    }\n",
       "</style>\n",
       "<table border=\"1\" class=\"dataframe\">\n",
       "  <thead>\n",
       "    <tr style=\"text-align: right;\">\n",
       "      <th></th>\n",
       "      <th>row ID</th>\n",
       "      <th>Location</th>\n",
       "      <th>MinTemp</th>\n",
       "      <th>MaxTemp</th>\n",
       "      <th>Rainfall</th>\n",
       "      <th>Evaporation</th>\n",
       "      <th>Sunshine</th>\n",
       "      <th>WindGustDir</th>\n",
       "      <th>WindGustSpeed</th>\n",
       "      <th>WindDir9am</th>\n",
       "      <th>...</th>\n",
       "      <th>Humidity9am</th>\n",
       "      <th>Humidity3pm</th>\n",
       "      <th>Pressure9am</th>\n",
       "      <th>Pressure3pm</th>\n",
       "      <th>Cloud9am</th>\n",
       "      <th>Cloud3pm</th>\n",
       "      <th>Temp9am</th>\n",
       "      <th>Temp3pm</th>\n",
       "      <th>RainToday</th>\n",
       "      <th>RainTomorrow</th>\n",
       "    </tr>\n",
       "  </thead>\n",
       "  <tbody>\n",
       "    <tr>\n",
       "      <th>0</th>\n",
       "      <td>Row0</td>\n",
       "      <td>Albury</td>\n",
       "      <td>13.4</td>\n",
       "      <td>22.9</td>\n",
       "      <td>0.6</td>\n",
       "      <td>NaN</td>\n",
       "      <td>NaN</td>\n",
       "      <td>W</td>\n",
       "      <td>44.0</td>\n",
       "      <td>W</td>\n",
       "      <td>...</td>\n",
       "      <td>71.0</td>\n",
       "      <td>22.0</td>\n",
       "      <td>1007.7</td>\n",
       "      <td>1007.1</td>\n",
       "      <td>8.0</td>\n",
       "      <td>NaN</td>\n",
       "      <td>16.9</td>\n",
       "      <td>21.8</td>\n",
       "      <td>No</td>\n",
       "      <td>0</td>\n",
       "    </tr>\n",
       "    <tr>\n",
       "      <th>1</th>\n",
       "      <td>Row1</td>\n",
       "      <td>Albury</td>\n",
       "      <td>7.4</td>\n",
       "      <td>25.1</td>\n",
       "      <td>0.0</td>\n",
       "      <td>NaN</td>\n",
       "      <td>NaN</td>\n",
       "      <td>WNW</td>\n",
       "      <td>44.0</td>\n",
       "      <td>NNW</td>\n",
       "      <td>...</td>\n",
       "      <td>44.0</td>\n",
       "      <td>25.0</td>\n",
       "      <td>1010.6</td>\n",
       "      <td>1007.8</td>\n",
       "      <td>NaN</td>\n",
       "      <td>NaN</td>\n",
       "      <td>17.2</td>\n",
       "      <td>24.3</td>\n",
       "      <td>No</td>\n",
       "      <td>0</td>\n",
       "    </tr>\n",
       "    <tr>\n",
       "      <th>2</th>\n",
       "      <td>Row2</td>\n",
       "      <td>Albury</td>\n",
       "      <td>17.5</td>\n",
       "      <td>32.3</td>\n",
       "      <td>1.0</td>\n",
       "      <td>NaN</td>\n",
       "      <td>NaN</td>\n",
       "      <td>W</td>\n",
       "      <td>41.0</td>\n",
       "      <td>ENE</td>\n",
       "      <td>...</td>\n",
       "      <td>82.0</td>\n",
       "      <td>33.0</td>\n",
       "      <td>1010.8</td>\n",
       "      <td>1006.0</td>\n",
       "      <td>7.0</td>\n",
       "      <td>8.0</td>\n",
       "      <td>17.8</td>\n",
       "      <td>29.7</td>\n",
       "      <td>No</td>\n",
       "      <td>0</td>\n",
       "    </tr>\n",
       "    <tr>\n",
       "      <th>3</th>\n",
       "      <td>Row3</td>\n",
       "      <td>Albury</td>\n",
       "      <td>14.6</td>\n",
       "      <td>29.7</td>\n",
       "      <td>0.2</td>\n",
       "      <td>NaN</td>\n",
       "      <td>NaN</td>\n",
       "      <td>WNW</td>\n",
       "      <td>56.0</td>\n",
       "      <td>W</td>\n",
       "      <td>...</td>\n",
       "      <td>55.0</td>\n",
       "      <td>23.0</td>\n",
       "      <td>1009.2</td>\n",
       "      <td>1005.4</td>\n",
       "      <td>NaN</td>\n",
       "      <td>NaN</td>\n",
       "      <td>20.6</td>\n",
       "      <td>28.9</td>\n",
       "      <td>No</td>\n",
       "      <td>0</td>\n",
       "    </tr>\n",
       "    <tr>\n",
       "      <th>4</th>\n",
       "      <td>Row4</td>\n",
       "      <td>Albury</td>\n",
       "      <td>7.7</td>\n",
       "      <td>26.7</td>\n",
       "      <td>0.0</td>\n",
       "      <td>NaN</td>\n",
       "      <td>NaN</td>\n",
       "      <td>W</td>\n",
       "      <td>35.0</td>\n",
       "      <td>SSE</td>\n",
       "      <td>...</td>\n",
       "      <td>48.0</td>\n",
       "      <td>19.0</td>\n",
       "      <td>1013.4</td>\n",
       "      <td>1010.1</td>\n",
       "      <td>NaN</td>\n",
       "      <td>NaN</td>\n",
       "      <td>16.3</td>\n",
       "      <td>25.5</td>\n",
       "      <td>No</td>\n",
       "      <td>0</td>\n",
       "    </tr>\n",
       "    <tr>\n",
       "      <th>5</th>\n",
       "      <td>Row5</td>\n",
       "      <td>Albury</td>\n",
       "      <td>13.1</td>\n",
       "      <td>30.1</td>\n",
       "      <td>1.4</td>\n",
       "      <td>NaN</td>\n",
       "      <td>NaN</td>\n",
       "      <td>W</td>\n",
       "      <td>28.0</td>\n",
       "      <td>S</td>\n",
       "      <td>...</td>\n",
       "      <td>58.0</td>\n",
       "      <td>27.0</td>\n",
       "      <td>1007.0</td>\n",
       "      <td>1005.7</td>\n",
       "      <td>NaN</td>\n",
       "      <td>NaN</td>\n",
       "      <td>20.1</td>\n",
       "      <td>28.2</td>\n",
       "      <td>Yes</td>\n",
       "      <td>0</td>\n",
       "    </tr>\n",
       "    <tr>\n",
       "      <th>6</th>\n",
       "      <td>Row6</td>\n",
       "      <td>Albury</td>\n",
       "      <td>13.4</td>\n",
       "      <td>30.4</td>\n",
       "      <td>0.0</td>\n",
       "      <td>NaN</td>\n",
       "      <td>NaN</td>\n",
       "      <td>N</td>\n",
       "      <td>30.0</td>\n",
       "      <td>SSE</td>\n",
       "      <td>...</td>\n",
       "      <td>48.0</td>\n",
       "      <td>22.0</td>\n",
       "      <td>1011.8</td>\n",
       "      <td>1008.7</td>\n",
       "      <td>NaN</td>\n",
       "      <td>NaN</td>\n",
       "      <td>20.4</td>\n",
       "      <td>28.8</td>\n",
       "      <td>No</td>\n",
       "      <td>1</td>\n",
       "    </tr>\n",
       "    <tr>\n",
       "      <th>7</th>\n",
       "      <td>Row7</td>\n",
       "      <td>Albury</td>\n",
       "      <td>15.9</td>\n",
       "      <td>21.7</td>\n",
       "      <td>2.2</td>\n",
       "      <td>NaN</td>\n",
       "      <td>NaN</td>\n",
       "      <td>NNE</td>\n",
       "      <td>31.0</td>\n",
       "      <td>NE</td>\n",
       "      <td>...</td>\n",
       "      <td>89.0</td>\n",
       "      <td>91.0</td>\n",
       "      <td>1010.5</td>\n",
       "      <td>1004.2</td>\n",
       "      <td>8.0</td>\n",
       "      <td>8.0</td>\n",
       "      <td>15.9</td>\n",
       "      <td>17.0</td>\n",
       "      <td>Yes</td>\n",
       "      <td>1</td>\n",
       "    </tr>\n",
       "    <tr>\n",
       "      <th>8</th>\n",
       "      <td>Row8</td>\n",
       "      <td>Albury</td>\n",
       "      <td>12.6</td>\n",
       "      <td>21.0</td>\n",
       "      <td>3.6</td>\n",
       "      <td>NaN</td>\n",
       "      <td>NaN</td>\n",
       "      <td>SW</td>\n",
       "      <td>44.0</td>\n",
       "      <td>W</td>\n",
       "      <td>...</td>\n",
       "      <td>65.0</td>\n",
       "      <td>43.0</td>\n",
       "      <td>1001.2</td>\n",
       "      <td>1001.8</td>\n",
       "      <td>NaN</td>\n",
       "      <td>7.0</td>\n",
       "      <td>15.8</td>\n",
       "      <td>19.8</td>\n",
       "      <td>Yes</td>\n",
       "      <td>0</td>\n",
       "    </tr>\n",
       "    <tr>\n",
       "      <th>9</th>\n",
       "      <td>Row9</td>\n",
       "      <td>Albury</td>\n",
       "      <td>9.8</td>\n",
       "      <td>27.7</td>\n",
       "      <td>NaN</td>\n",
       "      <td>NaN</td>\n",
       "      <td>NaN</td>\n",
       "      <td>WNW</td>\n",
       "      <td>50.0</td>\n",
       "      <td>NaN</td>\n",
       "      <td>...</td>\n",
       "      <td>50.0</td>\n",
       "      <td>28.0</td>\n",
       "      <td>1013.4</td>\n",
       "      <td>1010.3</td>\n",
       "      <td>0.0</td>\n",
       "      <td>NaN</td>\n",
       "      <td>17.3</td>\n",
       "      <td>26.2</td>\n",
       "      <td>NaN</td>\n",
       "      <td>0</td>\n",
       "    </tr>\n",
       "  </tbody>\n",
       "</table>\n",
       "<p>10 rows × 23 columns</p>\n",
       "</div>"
      ],
      "text/plain": [
       "  row ID Location  MinTemp  MaxTemp  Rainfall  Evaporation  Sunshine  \\\n",
       "0   Row0   Albury     13.4     22.9       0.6          NaN       NaN   \n",
       "1   Row1   Albury      7.4     25.1       0.0          NaN       NaN   \n",
       "2   Row2   Albury     17.5     32.3       1.0          NaN       NaN   \n",
       "3   Row3   Albury     14.6     29.7       0.2          NaN       NaN   \n",
       "4   Row4   Albury      7.7     26.7       0.0          NaN       NaN   \n",
       "5   Row5   Albury     13.1     30.1       1.4          NaN       NaN   \n",
       "6   Row6   Albury     13.4     30.4       0.0          NaN       NaN   \n",
       "7   Row7   Albury     15.9     21.7       2.2          NaN       NaN   \n",
       "8   Row8   Albury     12.6     21.0       3.6          NaN       NaN   \n",
       "9   Row9   Albury      9.8     27.7       NaN          NaN       NaN   \n",
       "\n",
       "  WindGustDir  WindGustSpeed WindDir9am  ... Humidity9am  Humidity3pm  \\\n",
       "0           W           44.0          W  ...        71.0         22.0   \n",
       "1         WNW           44.0        NNW  ...        44.0         25.0   \n",
       "2           W           41.0        ENE  ...        82.0         33.0   \n",
       "3         WNW           56.0          W  ...        55.0         23.0   \n",
       "4           W           35.0        SSE  ...        48.0         19.0   \n",
       "5           W           28.0          S  ...        58.0         27.0   \n",
       "6           N           30.0        SSE  ...        48.0         22.0   \n",
       "7         NNE           31.0         NE  ...        89.0         91.0   \n",
       "8          SW           44.0          W  ...        65.0         43.0   \n",
       "9         WNW           50.0        NaN  ...        50.0         28.0   \n",
       "\n",
       "   Pressure9am  Pressure3pm  Cloud9am  Cloud3pm  Temp9am  Temp3pm  RainToday  \\\n",
       "0       1007.7       1007.1       8.0       NaN     16.9     21.8         No   \n",
       "1       1010.6       1007.8       NaN       NaN     17.2     24.3         No   \n",
       "2       1010.8       1006.0       7.0       8.0     17.8     29.7         No   \n",
       "3       1009.2       1005.4       NaN       NaN     20.6     28.9         No   \n",
       "4       1013.4       1010.1       NaN       NaN     16.3     25.5         No   \n",
       "5       1007.0       1005.7       NaN       NaN     20.1     28.2        Yes   \n",
       "6       1011.8       1008.7       NaN       NaN     20.4     28.8         No   \n",
       "7       1010.5       1004.2       8.0       8.0     15.9     17.0        Yes   \n",
       "8       1001.2       1001.8       NaN       7.0     15.8     19.8        Yes   \n",
       "9       1013.4       1010.3       0.0       NaN     17.3     26.2        NaN   \n",
       "\n",
       "   RainTomorrow  \n",
       "0             0  \n",
       "1             0  \n",
       "2             0  \n",
       "3             0  \n",
       "4             0  \n",
       "5             0  \n",
       "6             1  \n",
       "7             1  \n",
       "8             0  \n",
       "9             0  \n",
       "\n",
       "[10 rows x 23 columns]"
      ]
     },
     "execution_count": 14,
     "metadata": {},
     "output_type": "execute_result"
    }
   ],
   "source": [
    "#Reading training data\n",
    "weather=pd.read_csv('Weather Training Data.csv')\n",
    "weather.head(10)"
   ]
  },
  {
   "cell_type": "code",
   "execution_count": 15,
   "metadata": {},
   "outputs": [
    {
     "name": "stdout",
     "output_type": "stream",
     "text": [
      "<class 'pandas.core.frame.DataFrame'>\n",
      "RangeIndex: 99516 entries, 0 to 99515\n",
      "Data columns (total 23 columns):\n",
      " #   Column         Non-Null Count  Dtype  \n",
      "---  ------         --------------  -----  \n",
      " 0   row ID         99516 non-null  object \n",
      " 1   Location       99516 non-null  object \n",
      " 2   MinTemp        99073 non-null  float64\n",
      " 3   MaxTemp        99286 non-null  float64\n",
      " 4   Rainfall       98537 non-null  float64\n",
      " 5   Evaporation    56985 non-null  float64\n",
      " 6   Sunshine       52199 non-null  float64\n",
      " 7   WindGustDir    92995 non-null  object \n",
      " 8   WindGustSpeed  93036 non-null  float64\n",
      " 9   WindDir9am     92510 non-null  object \n",
      " 10  WindDir3pm     96868 non-null  object \n",
      " 11  WindSpeed9am   98581 non-null  float64\n",
      " 12  WindSpeed3pm   97681 non-null  float64\n",
      " 13  Humidity9am    98283 non-null  float64\n",
      " 14  Humidity3pm    97010 non-null  float64\n",
      " 15  Pressure9am    89768 non-null  float64\n",
      " 16  Pressure3pm    89780 non-null  float64\n",
      " 17  Cloud9am       61944 non-null  float64\n",
      " 18  Cloud3pm       59514 non-null  float64\n",
      " 19  Temp9am        98902 non-null  float64\n",
      " 20  Temp3pm        97612 non-null  float64\n",
      " 21  RainToday      98537 non-null  object \n",
      " 22  RainTomorrow   99516 non-null  int64  \n",
      "dtypes: float64(16), int64(1), object(6)\n",
      "memory usage: 17.5+ MB\n"
     ]
    }
   ],
   "source": [
    "#Information about data\n",
    "weather.info()"
   ]
  },
  {
   "cell_type": "code",
   "execution_count": 16,
   "metadata": {},
   "outputs": [
    {
     "data": {
      "text/plain": [
       "row ID            0.000000\n",
       "Location          0.000000\n",
       "MinTemp           0.445155\n",
       "MaxTemp           0.231119\n",
       "Rainfall          0.983761\n",
       "Evaporation      42.737851\n",
       "Sunshine         47.547128\n",
       "WindGustDir       6.552715\n",
       "WindGustSpeed     6.511516\n",
       "WindDir9am        7.040074\n",
       "WindDir3pm        2.660879\n",
       "WindSpeed9am      0.939547\n",
       "WindSpeed3pm      1.843925\n",
       "Humidity9am       1.238997\n",
       "Humidity3pm       2.518188\n",
       "Pressure9am       9.795410\n",
       "Pressure3pm       9.783351\n",
       "Cloud9am         37.754733\n",
       "Cloud3pm         40.196551\n",
       "Temp9am           0.616986\n",
       "Temp3pm           1.913260\n",
       "RainToday         0.983761\n",
       "RainTomorrow      0.000000\n",
       "dtype: float64"
      ]
     },
     "execution_count": 16,
     "metadata": {},
     "output_type": "execute_result"
    }
   ],
   "source": [
    "#verifying percentage of missing values\n",
    "weather.isnull().mean()*100"
   ]
  },
  {
   "cell_type": "code",
   "execution_count": 17,
   "metadata": {},
   "outputs": [],
   "source": [
    "#removing features with missing values more than 30% and irrelevant features\n",
    "weather=weather.drop(['row ID','Location','Evaporation','Sunshine','Cloud9am','Cloud3pm'],axis=1)"
   ]
  },
  {
   "cell_type": "code",
   "execution_count": 18,
   "metadata": {},
   "outputs": [
    {
     "name": "stdout",
     "output_type": "stream",
     "text": [
      "<class 'pandas.core.frame.DataFrame'>\n",
      "RangeIndex: 99516 entries, 0 to 99515\n",
      "Data columns (total 17 columns):\n",
      " #   Column         Non-Null Count  Dtype  \n",
      "---  ------         --------------  -----  \n",
      " 0   MinTemp        99516 non-null  float64\n",
      " 1   MaxTemp        99516 non-null  float64\n",
      " 2   Rainfall       99516 non-null  float64\n",
      " 3   WindGustDir    99516 non-null  object \n",
      " 4   WindGustSpeed  99516 non-null  float64\n",
      " 5   WindDir9am     99516 non-null  object \n",
      " 6   WindDir3pm     99516 non-null  object \n",
      " 7   WindSpeed9am   99516 non-null  float64\n",
      " 8   WindSpeed3pm   99516 non-null  float64\n",
      " 9   Humidity9am    99516 non-null  float64\n",
      " 10  Humidity3pm    99516 non-null  float64\n",
      " 11  Pressure9am    99516 non-null  float64\n",
      " 12  Pressure3pm    99516 non-null  float64\n",
      " 13  Temp9am        99516 non-null  float64\n",
      " 14  Temp3pm        99516 non-null  float64\n",
      " 15  RainToday      99516 non-null  object \n",
      " 16  RainTomorrow   99516 non-null  int64  \n",
      "dtypes: float64(12), int64(1), object(4)\n",
      "memory usage: 12.9+ MB\n"
     ]
    }
   ],
   "source": [
    "#fill missing continous features\n",
    "continous_columns = weather.select_dtypes(include=['float64','int64']).drop(['RainTomorrow'],axis=1).columns\n",
    "for c in continous_columns:\n",
    "    mean = weather[c].mean()\n",
    "    weather[c]=weather[c].fillna(mean)\n",
    "\n",
    "#fill missing categorical features\n",
    "categorical_columns = weather.select_dtypes(include=['object']).columns\n",
    "for c in categorical_columns:\n",
    "    most_frequent_value = weather[c].mode()[0]\n",
    "    weather[c]=weather[c].fillna(most_frequent_value)\n",
    "weather.info()"
   ]
  },
  {
   "cell_type": "code",
   "execution_count": 7,
   "metadata": {},
   "outputs": [
    {
     "data": {
      "text/html": [
       "<div>\n",
       "<style scoped>\n",
       "    .dataframe tbody tr th:only-of-type {\n",
       "        vertical-align: middle;\n",
       "    }\n",
       "\n",
       "    .dataframe tbody tr th {\n",
       "        vertical-align: top;\n",
       "    }\n",
       "\n",
       "    .dataframe thead th {\n",
       "        text-align: right;\n",
       "    }\n",
       "</style>\n",
       "<table border=\"1\" class=\"dataframe\">\n",
       "  <thead>\n",
       "    <tr style=\"text-align: right;\">\n",
       "      <th></th>\n",
       "      <th>MinTemp</th>\n",
       "      <th>MaxTemp</th>\n",
       "      <th>Rainfall</th>\n",
       "      <th>WindGustDir</th>\n",
       "      <th>WindGustSpeed</th>\n",
       "      <th>WindDir9am</th>\n",
       "      <th>WindDir3pm</th>\n",
       "      <th>WindSpeed9am</th>\n",
       "      <th>WindSpeed3pm</th>\n",
       "      <th>Humidity9am</th>\n",
       "      <th>Humidity3pm</th>\n",
       "      <th>Pressure9am</th>\n",
       "      <th>Pressure3pm</th>\n",
       "      <th>Temp9am</th>\n",
       "      <th>Temp3pm</th>\n",
       "      <th>RainToday</th>\n",
       "      <th>RainTomorrow</th>\n",
       "    </tr>\n",
       "  </thead>\n",
       "  <tbody>\n",
       "    <tr>\n",
       "      <th>0</th>\n",
       "      <td>0.191910</td>\n",
       "      <td>-0.044818</td>\n",
       "      <td>-0.207557</td>\n",
       "      <td>13</td>\n",
       "      <td>0.306357</td>\n",
       "      <td>13</td>\n",
       "      <td>14</td>\n",
       "      <td>0.676626</td>\n",
       "      <td>0.613461</td>\n",
       "      <td>0.112555</td>\n",
       "      <td>-1.434774</td>\n",
       "      <td>-1.478566</td>\n",
       "      <td>-1.223345</td>\n",
       "      <td>-0.010827</td>\n",
       "      <td>0.017285</td>\n",
       "      <td>0</td>\n",
       "      <td>0</td>\n",
       "    </tr>\n",
       "    <tr>\n",
       "      <th>1</th>\n",
       "      <td>-0.749029</td>\n",
       "      <td>0.264744</td>\n",
       "      <td>-0.278597</td>\n",
       "      <td>14</td>\n",
       "      <td>0.306357</td>\n",
       "      <td>6</td>\n",
       "      <td>15</td>\n",
       "      <td>-1.129170</td>\n",
       "      <td>0.384110</td>\n",
       "      <td>-1.311772</td>\n",
       "      <td>-1.288534</td>\n",
       "      <td>-1.049122</td>\n",
       "      <td>-1.118737</td>\n",
       "      <td>0.035548</td>\n",
       "      <td>0.381450</td>\n",
       "      <td>0</td>\n",
       "      <td>0</td>\n",
       "    </tr>\n",
       "    <tr>\n",
       "      <th>2</th>\n",
       "      <td>0.834885</td>\n",
       "      <td>1.277857</td>\n",
       "      <td>-0.160198</td>\n",
       "      <td>13</td>\n",
       "      <td>0.077905</td>\n",
       "      <td>1</td>\n",
       "      <td>7</td>\n",
       "      <td>-0.790583</td>\n",
       "      <td>0.154759</td>\n",
       "      <td>0.692836</td>\n",
       "      <td>-0.898561</td>\n",
       "      <td>-1.019505</td>\n",
       "      <td>-1.387729</td>\n",
       "      <td>0.128300</td>\n",
       "      <td>1.168047</td>\n",
       "      <td>0</td>\n",
       "      <td>0</td>\n",
       "    </tr>\n",
       "    <tr>\n",
       "      <th>3</th>\n",
       "      <td>0.380098</td>\n",
       "      <td>0.912011</td>\n",
       "      <td>-0.254917</td>\n",
       "      <td>14</td>\n",
       "      <td>1.220168</td>\n",
       "      <td>13</td>\n",
       "      <td>13</td>\n",
       "      <td>0.563764</td>\n",
       "      <td>0.613461</td>\n",
       "      <td>-0.731491</td>\n",
       "      <td>-1.386028</td>\n",
       "      <td>-1.256440</td>\n",
       "      <td>-1.477393</td>\n",
       "      <td>0.561142</td>\n",
       "      <td>1.051514</td>\n",
       "      <td>0</td>\n",
       "      <td>0</td>\n",
       "    </tr>\n",
       "    <tr>\n",
       "      <th>4</th>\n",
       "      <td>-0.701982</td>\n",
       "      <td>0.489880</td>\n",
       "      <td>-0.278597</td>\n",
       "      <td>13</td>\n",
       "      <td>-0.379000</td>\n",
       "      <td>10</td>\n",
       "      <td>13</td>\n",
       "      <td>-0.903445</td>\n",
       "      <td>-0.189268</td>\n",
       "      <td>-1.100761</td>\n",
       "      <td>-1.581014</td>\n",
       "      <td>-0.634487</td>\n",
       "      <td>-0.775026</td>\n",
       "      <td>-0.103579</td>\n",
       "      <td>0.556249</td>\n",
       "      <td>0</td>\n",
       "      <td>0</td>\n",
       "    </tr>\n",
       "  </tbody>\n",
       "</table>\n",
       "</div>"
      ],
      "text/plain": [
       "    MinTemp   MaxTemp  Rainfall  WindGustDir  WindGustSpeed  WindDir9am  \\\n",
       "0  0.191910 -0.044818 -0.207557           13       0.306357          13   \n",
       "1 -0.749029  0.264744 -0.278597           14       0.306357           6   \n",
       "2  0.834885  1.277857 -0.160198           13       0.077905           1   \n",
       "3  0.380098  0.912011 -0.254917           14       1.220168          13   \n",
       "4 -0.701982  0.489880 -0.278597           13      -0.379000          10   \n",
       "\n",
       "   WindDir3pm  WindSpeed9am  WindSpeed3pm  Humidity9am  Humidity3pm  \\\n",
       "0          14      0.676626      0.613461     0.112555    -1.434774   \n",
       "1          15     -1.129170      0.384110    -1.311772    -1.288534   \n",
       "2           7     -0.790583      0.154759     0.692836    -0.898561   \n",
       "3          13      0.563764      0.613461    -0.731491    -1.386028   \n",
       "4          13     -0.903445     -0.189268    -1.100761    -1.581014   \n",
       "\n",
       "   Pressure9am  Pressure3pm   Temp9am   Temp3pm  RainToday  RainTomorrow  \n",
       "0    -1.478566    -1.223345 -0.010827  0.017285          0             0  \n",
       "1    -1.049122    -1.118737  0.035548  0.381450          0             0  \n",
       "2    -1.019505    -1.387729  0.128300  1.168047          0             0  \n",
       "3    -1.256440    -1.477393  0.561142  1.051514          0             0  \n",
       "4    -0.634487    -0.775026 -0.103579  0.556249          0             0  "
      ]
     },
     "execution_count": 7,
     "metadata": {},
     "output_type": "execute_result"
    }
   ],
   "source": [
    "#Normalization continous features\n",
    "scaler = StandardScaler()\n",
    "weather[continous_columns] = scaler.fit_transform(weather[continous_columns])\n",
    "\n",
    "#Convert categorical features to continous\n",
    "\n",
    "label_encoders={}\n",
    "for c in categorical_columns:\n",
    "    label_encoders[c] = LabelEncoder()\n",
    "    weather[c]=label_encoders[c].fit_transform(weather[c])\n",
    "\n",
    "weather.head()"
   ]
  },
  {
   "cell_type": "code",
   "execution_count": 19,
   "metadata": {},
   "outputs": [
    {
     "name": "stdout",
     "output_type": "stream",
     "text": [
      "<class 'pandas.core.frame.DataFrame'>\n",
      "RangeIndex: 99516 entries, 0 to 99515\n",
      "Data columns (total 17 columns):\n",
      " #   Column         Non-Null Count  Dtype  \n",
      "---  ------         --------------  -----  \n",
      " 0   MinTemp        99516 non-null  float64\n",
      " 1   MaxTemp        99516 non-null  float64\n",
      " 2   Rainfall       99516 non-null  float64\n",
      " 3   WindGustDir    99516 non-null  object \n",
      " 4   WindGustSpeed  99516 non-null  float64\n",
      " 5   WindDir9am     99516 non-null  object \n",
      " 6   WindDir3pm     99516 non-null  object \n",
      " 7   WindSpeed9am   99516 non-null  float64\n",
      " 8   WindSpeed3pm   99516 non-null  float64\n",
      " 9   Humidity9am    99516 non-null  float64\n",
      " 10  Humidity3pm    99516 non-null  float64\n",
      " 11  Pressure9am    99516 non-null  float64\n",
      " 12  Pressure3pm    99516 non-null  float64\n",
      " 13  Temp9am        99516 non-null  float64\n",
      " 14  Temp3pm        99516 non-null  float64\n",
      " 15  RainToday      99516 non-null  object \n",
      " 16  RainTomorrow   99516 non-null  int64  \n",
      "dtypes: float64(12), int64(1), object(4)\n",
      "memory usage: 12.9+ MB\n"
     ]
    }
   ],
   "source": [
    "weather.info()"
   ]
  },
  {
   "cell_type": "code",
   "execution_count": 8,
   "metadata": {},
   "outputs": [],
   "source": [
    "#Divide features=X and target=Y, using 80 % of data for train and 20 % for train\n",
    "X=weather.drop(['RainTomorrow'],axis=1)\n",
    "Y=weather['RainTomorrow']\n",
    "X_train, X_test, y_train, y_test = train_test_split(X, Y, test_size=.2)"
   ]
  },
  {
   "cell_type": "code",
   "execution_count": null,
   "metadata": {},
   "outputs": [
    {
     "name": "stdout",
     "output_type": "stream",
     "text": [
      "The classification accuracy of KNN model is 82.14%\n",
      "The classification precision of KNN model is 66.48%\n",
      "The classification recall of KNN model is 41.4%\n",
      "The classification F1 of KNN model is 51.03%\n"
     ]
    }
   ],
   "source": [
    "#=========\n",
    "#KNN Model\n",
    "clf = KNeighborsClassifier(n_neighbors = 5)\n",
    "#Training\n",
    "clf.fit(X_train,y_train)\n",
    "#Testing accuracy KNN\n",
    "test_predictions = clf.predict(X_test)\n",
    "score_knn=accuracy_score(y_test, test_predictions)\n",
    "accuracy_knn = round(score_knn*100, 2)\n",
    "print(\"The classification accuracy of KNN model is \"+ str(accuracy_knn)+\"%\")\n",
    "precision_knn=round(precision_score(y_test,test_predictions)*100,2)\n",
    "recall_knn=round(recall_score(y_test,test_predictions)*100,2)\n",
    "f1_knn=round(f1_score(y_test,test_predictions)*100,2)\n",
    "print(\"The classification precision of KNN model is \"+ str(precision_knn)+\"%\")\n",
    "print(\"The classification recall of KNN model is \"+ str(recall_knn)+\"%\")\n",
    "print(\"The classification F1 of KNN model is \"+ str(f1_knn)+\"%\")"
   ]
  },
  {
   "cell_type": "code",
   "execution_count": 18,
   "metadata": {},
   "outputs": [],
   "source": [
    "#Confusion Matrix\n",
    "def conMat(y_test,y_pred,name):\n",
    "    cm = confusion_matrix(y_test,y_pred)\n",
    "    axes = sns.heatmap(cm, annot=True, annot_kws={\"size\": 16}, fmt='g', linewidths=.5)\n",
    "    class_labels = ['Not Rain', 'Rain']\n",
    "    axes.set_xlabel('Predicted', fontsize=12)\n",
    "    axes.set_ylabel('Actual', fontsize=12)\n",
    "    xtick_marks = np.arange(len(class_labels)) + 0.5\n",
    "    ytick_marks = np.arange(len(class_labels)) + 0.5\n",
    "    axes.set_xticks(xtick_marks)\n",
    "    axes.set_xticklabels(class_labels, rotation=45)\n",
    "    axes.set_yticks(ytick_marks)\n",
    "    axes.set_yticklabels(class_labels, rotation=0)\n",
    "    axes.set_title(name, fontsize=14, pad=20)"
   ]
  },
  {
   "cell_type": "code",
   "execution_count": 19,
   "metadata": {},
   "outputs": [
    {
     "data": {
      "image/png": "[encoded data removed]",
      "text/plain": [
       "<Figure size 640x480 with 2 Axes>"
      ]
     },
     "metadata": {},
     "output_type": "display_data"
    }
   ],
   "source": [
    "#KNN Confusion Matrix\n",
    "y_pred = clf.predict(X_test)\n",
    "conMat(y_test,y_pred,'KNN Confusion Matrix')"
   ]
  },
  {
   "cell_type": "code",
   "execution_count": 35,
   "metadata": {},
   "outputs": [
    {
     "name": "stdout",
     "output_type": "stream",
     "text": [
      "The classification accuracy of Decision Tree model is 78.17%\n",
      "The classification precision of Decision Tree model is 51.38%\n",
      "The classification recall of Decision Tree model is 52.78%\n",
      "The classification F1 of Decision Tree model is 52.07%\n"
     ]
    }
   ],
   "source": [
    "#=======\n",
    "#Decision Tree Model\n",
    "dtree_model = DecisionTreeClassifier()\n",
    "#Training Model\n",
    "dtree_model.fit(X_train, y_train)\n",
    "#Testing accuracy\n",
    "y_pred=dtree_model.predict(X_test)\n",
    "dtree_model_score = accuracy_score(y_test, y_pred)\n",
    "accuracy_dtree = round(dtree_model_score*100, 2)\n",
    "print(\"The classification accuracy of Decision Tree model is \"+ str(accuracy_dtree)+\"%\")\n",
    "precision_dtree=round(precision_score(y_test,y_pred)*100,2)\n",
    "recall_dtree=round(recall_score(y_test,y_pred)*100,2)\n",
    "f1_dtree=round(f1_score(y_test,y_pred)*100,2)\n",
    "print(\"The classification precision of Decision Tree model is \"+ str(precision_dtree)+\"%\")\n",
    "print(\"The classification recall of Decision Tree model is \"+ str(recall_dtree)+\"%\")\n",
    "print(\"The classification F1 of Decision Tree model is \"+ str(f1_dtree)+\"%\")"
   ]
  },
  {
   "cell_type": "code",
   "execution_count": 20,
   "metadata": {},
   "outputs": [
    {
     "data": {
      "image/png": "[encoded data removed]",
      "text/plain": [
       "<Figure size 640x480 with 2 Axes>"
      ]
     },
     "metadata": {},
     "output_type": "display_data"
    }
   ],
   "source": [
    "#Decision Tree Confusion Matrix\n",
    "y_pred = dtree_model.predict(X_test)\n",
    "conMat(y_test,y_pred,'Decision Tree Confusion Matrix')"
   ]
  },
  {
   "cell_type": "code",
   "execution_count": 34,
   "metadata": {},
   "outputs": [
    {
     "name": "stdout",
     "output_type": "stream",
     "text": [
      "The classification accuracy of Random Forest model is 84.84%\n",
      "The classification precision of Random Forest model is 74.95%\n",
      "The classification recall of Random Forest model is 48.89%\n",
      "The classification F1 of Random Forest model is 59.18%\n"
     ]
    }
   ],
   "source": [
    "#======\n",
    "#Random Forest Model\n",
    "rforest_model = RandomForestClassifier()\n",
    "#Training\n",
    "rforest_model.fit(X_train, y_train)\n",
    "#Testing\n",
    "y_pred=rforest_model.predict(X_test)\n",
    "rforest_model_score = accuracy_score(y_test,y_pred)\n",
    "accuracy_rforest = round(rforest_model_score*100, 2)\n",
    "print(\"The classification accuracy of Random Forest model is \"+ str(accuracy_rforest)+\"%\")\n",
    "precision_rforest=round(precision_score(y_test,y_pred)*100,2)\n",
    "recall_rforest=round(recall_score(y_test,y_pred)*100,2)\n",
    "f1_rforest=round(f1_score(y_test,y_pred)*100,2)\n",
    "print(\"The classification precision of Random Forest model is \"+ str(precision_rforest)+\"%\")\n",
    "print(\"The classification recall of Random Forest model is \"+ str(recall_rforest)+\"%\")\n",
    "print(\"The classification F1 of Random Forest model is \"+ str(f1_rforest)+\"%\")\n"
   ]
  },
  {
   "cell_type": "code",
   "execution_count": 21,
   "metadata": {},
   "outputs": [
    {
     "data": {
      "image/png": "[encoded data removed]",
      "text/plain": [
       "<Figure size 640x480 with 2 Axes>"
      ]
     },
     "metadata": {},
     "output_type": "display_data"
    }
   ],
   "source": [
    "#Random Forest Confusion Matrix\n",
    "y_pred = rforest_model.predict(X_test)\n",
    "conMat(y_test,y_pred,'Random Forest Confusion Matrix')"
   ]
  },
  {
   "cell_type": "code",
   "execution_count": null,
   "metadata": {},
   "outputs": [
    {
     "name": "stdout",
     "output_type": "stream",
     "text": [
      "The classification accuracy of Support Vector Machine model is 83.92%\n"
     ]
    }
   ],
   "source": [
    "#======\n",
    "#Support Vector Machine\n",
    "#Create a svm Classifier\n",
    "svm_clf = svm.SVC(kernel='linear') # Linear Kernel\n",
    "#Train the model using the training sets\n",
    "svm_clf.fit(X_train, y_train)\n",
    "#Test\n",
    "y_pred_svm = svm_clf.predict(X_test)\n",
    "svm_score = accuracy_score(y_test, y_pred_svm)\n",
    "accuracy_svm = round(svm_score*100, 2)\n",
    "print(\"The classification accuracy of Support Vector Machine model is \"+ str(accuracy_svm)+\"%\")\n",
    "precision_svm=round(precision_score(y_test,y_pred_svm)*100,2)\n",
    "recall_svm=round(recall_score(y_test,y_pred_svm)*100,2)\n",
    "f1_svm=round(f1_score(y_test,y_pred_svm)*100,2)\n",
    "print(\"The classification precision of Support Vector Machine model is \"+ str(precision_svm)+\"%\")\n",
    "print(\"The classification recall of Support Vector Machine model is \"+ str(recall_svm)+\"%\")\n",
    "print(\"The classification F1 of Support Vector Machine model is \"+ str(f1_svm)+\"%\")\n"
   ]
  },
  {
   "cell_type": "code",
   "execution_count": null,
   "metadata": {},
   "outputs": [],
   "source": []
  },
  {
   "cell_type": "code",
   "execution_count": 22,
   "metadata": {},
   "outputs": [
    {
     "data": {
      "image/png": "[encoded data removed]",
      "text/plain": [
       "<Figure size 640x480 with 2 Axes>"
      ]
     },
     "metadata": {},
     "output_type": "display_data"
    }
   ],
   "source": [
    "#Support Vector Machine Confusion Matrix\n",
    "y_pred = svm_clf.predict(X_test)\n",
    "conMat(y_test,y_pred,'Support Vector Machine Confusion Matrix')"
   ]
  },
  {
   "cell_type": "code",
   "execution_count": 13,
   "metadata": {},
   "outputs": [
    {
     "name": "stderr",
     "output_type": "stream",
     "text": [
      "/home/arramos/BYUI/CS 499/weather-rainfall-prediction/.venv/lib/python3.11/site-packages/keras/src/layers/core/dense.py:87: UserWarning: Do not pass an `input_shape`/`input_dim` argument to a layer. When using Sequential models, prefer using an `Input(shape)` object as the first layer in the model instead.\n",
      "  super().__init__(activity_regularizer=activity_regularizer, **kwargs)\n",
      "2024-11-27 09:11:53.289623: E external/local_xla/xla/stream_executor/cuda/cuda_driver.cc:152] failed call to cuInit: INTERNAL: CUDA error: Failed call to cuInit: UNKNOWN ERROR (303)\n"
     ]
    },
    {
     "data": {
      "text/html": [
       "<pre style=\"white-space:pre;overflow-x:auto;line-height:normal;font-family:Menlo,'DejaVu Sans Mono',consolas,'Courier New',monospace\"><span style=\"font-weight: bold\">Model: \"sequential\"</span>\n",
       "</pre>\n"
      ],
      "text/plain": [
       "\u001b[1mModel: \"sequential\"\u001b[0m\n"
      ]
     },
     "metadata": {},
     "output_type": "display_data"
    },
    {
     "data": {
      "text/html": [
       "<pre style=\"white-space:pre;overflow-x:auto;line-height:normal;font-family:Menlo,'DejaVu Sans Mono',consolas,'Courier New',monospace\">┏━━━━━━━━━━━━━━━━━━━━━━━━━━━━━━━━━┳━━━━━━━━━━━━━━━━━━━━━━━━┳━━━━━━━━━━━━━━━┓\n",
       "┃<span style=\"font-weight: bold\"> Layer (type)                    </span>┃<span style=\"font-weight: bold\"> Output Shape           </span>┃<span style=\"font-weight: bold\">       Param # </span>┃\n",
       "┡━━━━━━━━━━━━━━━━━━━━━━━━━━━━━━━━━╇━━━━━━━━━━━━━━━━━━━━━━━━╇━━━━━━━━━━━━━━━┩\n",
       "│ dense (<span style=\"color: #0087ff; text-decoration-color: #0087ff\">Dense</span>)                   │ (<span style=\"color: #00d7ff; text-decoration-color: #00d7ff\">None</span>, <span style=\"color: #00af00; text-decoration-color: #00af00\">128</span>)            │         <span style=\"color: #00af00; text-decoration-color: #00af00\">2,176</span> │\n",
       "├─────────────────────────────────┼────────────────────────┼───────────────┤\n",
       "│ dense_1 (<span style=\"color: #0087ff; text-decoration-color: #0087ff\">Dense</span>)                 │ (<span style=\"color: #00d7ff; text-decoration-color: #00d7ff\">None</span>, <span style=\"color: #00af00; text-decoration-color: #00af00\">128</span>)            │        <span style=\"color: #00af00; text-decoration-color: #00af00\">16,512</span> │\n",
       "├─────────────────────────────────┼────────────────────────┼───────────────┤\n",
       "│ dense_2 (<span style=\"color: #0087ff; text-decoration-color: #0087ff\">Dense</span>)                 │ (<span style=\"color: #00d7ff; text-decoration-color: #00d7ff\">None</span>, <span style=\"color: #00af00; text-decoration-color: #00af00\">64</span>)             │         <span style=\"color: #00af00; text-decoration-color: #00af00\">8,256</span> │\n",
       "├─────────────────────────────────┼────────────────────────┼───────────────┤\n",
       "│ dense_3 (<span style=\"color: #0087ff; text-decoration-color: #0087ff\">Dense</span>)                 │ (<span style=\"color: #00d7ff; text-decoration-color: #00d7ff\">None</span>, <span style=\"color: #00af00; text-decoration-color: #00af00\">32</span>)             │         <span style=\"color: #00af00; text-decoration-color: #00af00\">2,080</span> │\n",
       "├─────────────────────────────────┼────────────────────────┼───────────────┤\n",
       "│ dense_4 (<span style=\"color: #0087ff; text-decoration-color: #0087ff\">Dense</span>)                 │ (<span style=\"color: #00d7ff; text-decoration-color: #00d7ff\">None</span>, <span style=\"color: #00af00; text-decoration-color: #00af00\">8</span>)              │           <span style=\"color: #00af00; text-decoration-color: #00af00\">264</span> │\n",
       "├─────────────────────────────────┼────────────────────────┼───────────────┤\n",
       "│ dense_5 (<span style=\"color: #0087ff; text-decoration-color: #0087ff\">Dense</span>)                 │ (<span style=\"color: #00d7ff; text-decoration-color: #00d7ff\">None</span>, <span style=\"color: #00af00; text-decoration-color: #00af00\">1</span>)              │             <span style=\"color: #00af00; text-decoration-color: #00af00\">9</span> │\n",
       "└─────────────────────────────────┴────────────────────────┴───────────────┘\n",
       "</pre>\n"
      ],
      "text/plain": [
       "┏━━━━━━━━━━━━━━━━━━━━━━━━━━━━━━━━━┳━━━━━━━━━━━━━━━━━━━━━━━━┳━━━━━━━━━━━━━━━┓\n",
       "┃\u001b[1m \u001b[0m\u001b[1mLayer (type)                   \u001b[0m\u001b[1m \u001b[0m┃\u001b[1m \u001b[0m\u001b[1mOutput Shape          \u001b[0m\u001b[1m \u001b[0m┃\u001b[1m \u001b[0m\u001b[1m      Param #\u001b[0m\u001b[1m \u001b[0m┃\n",
       "┡━━━━━━━━━━━━━━━━━━━━━━━━━━━━━━━━━╇━━━━━━━━━━━━━━━━━━━━━━━━╇━━━━━━━━━━━━━━━┩\n",
       "│ dense (\u001b[38;5;33mDense\u001b[0m)                   │ (\u001b[38;5;45mNone\u001b[0m, \u001b[38;5;34m128\u001b[0m)            │         \u001b[38;5;34m2,176\u001b[0m │\n",
       "├─────────────────────────────────┼────────────────────────┼───────────────┤\n",
       "│ dense_1 (\u001b[38;5;33mDense\u001b[0m)                 │ (\u001b[38;5;45mNone\u001b[0m, \u001b[38;5;34m128\u001b[0m)            │        \u001b[38;5;34m16,512\u001b[0m │\n",
       "├─────────────────────────────────┼────────────────────────┼───────────────┤\n",
       "│ dense_2 (\u001b[38;5;33mDense\u001b[0m)                 │ (\u001b[38;5;45mNone\u001b[0m, \u001b[38;5;34m64\u001b[0m)             │         \u001b[38;5;34m8,256\u001b[0m │\n",
       "├─────────────────────────────────┼────────────────────────┼───────────────┤\n",
       "│ dense_3 (\u001b[38;5;33mDense\u001b[0m)                 │ (\u001b[38;5;45mNone\u001b[0m, \u001b[38;5;34m32\u001b[0m)             │         \u001b[38;5;34m2,080\u001b[0m │\n",
       "├─────────────────────────────────┼────────────────────────┼───────────────┤\n",
       "│ dense_4 (\u001b[38;5;33mDense\u001b[0m)                 │ (\u001b[38;5;45mNone\u001b[0m, \u001b[38;5;34m8\u001b[0m)              │           \u001b[38;5;34m264\u001b[0m │\n",
       "├─────────────────────────────────┼────────────────────────┼───────────────┤\n",
       "│ dense_5 (\u001b[38;5;33mDense\u001b[0m)                 │ (\u001b[38;5;45mNone\u001b[0m, \u001b[38;5;34m1\u001b[0m)              │             \u001b[38;5;34m9\u001b[0m │\n",
       "└─────────────────────────────────┴────────────────────────┴───────────────┘\n"
      ]
     },
     "metadata": {},
     "output_type": "display_data"
    },
    {
     "data": {
      "text/html": [
       "<pre style=\"white-space:pre;overflow-x:auto;line-height:normal;font-family:Menlo,'DejaVu Sans Mono',consolas,'Courier New',monospace\"><span style=\"font-weight: bold\"> Total params: </span><span style=\"color: #00af00; text-decoration-color: #00af00\">29,297</span> (114.44 KB)\n",
       "</pre>\n"
      ],
      "text/plain": [
       "\u001b[1m Total params: \u001b[0m\u001b[38;5;34m29,297\u001b[0m (114.44 KB)\n"
      ]
     },
     "metadata": {},
     "output_type": "display_data"
    },
    {
     "data": {
      "text/html": [
       "<pre style=\"white-space:pre;overflow-x:auto;line-height:normal;font-family:Menlo,'DejaVu Sans Mono',consolas,'Courier New',monospace\"><span style=\"font-weight: bold\"> Trainable params: </span><span style=\"color: #00af00; text-decoration-color: #00af00\">29,297</span> (114.44 KB)\n",
       "</pre>\n"
      ],
      "text/plain": [
       "\u001b[1m Trainable params: \u001b[0m\u001b[38;5;34m29,297\u001b[0m (114.44 KB)\n"
      ]
     },
     "metadata": {},
     "output_type": "display_data"
    },
    {
     "data": {
      "text/html": [
       "<pre style=\"white-space:pre;overflow-x:auto;line-height:normal;font-family:Menlo,'DejaVu Sans Mono',consolas,'Courier New',monospace\"><span style=\"font-weight: bold\"> Non-trainable params: </span><span style=\"color: #00af00; text-decoration-color: #00af00\">0</span> (0.00 B)\n",
       "</pre>\n"
      ],
      "text/plain": [
       "\u001b[1m Non-trainable params: \u001b[0m\u001b[38;5;34m0\u001b[0m (0.00 B)\n"
      ]
     },
     "metadata": {},
     "output_type": "display_data"
    }
   ],
   "source": [
    "#======\n",
    "#Neural Network creating model with 4 hidden layers\n",
    "Seq_model = keras.Sequential()\n",
    "Seq_model.add(Dense(128, input_dim=X_train.shape[1], activation='relu'))\n",
    "Seq_model.add(Dense(128, activation='relu'))\n",
    "Seq_model.add(Dense(64, activation='relu'))\n",
    "Seq_model.add(Dense(32, activation='relu'))\n",
    "Seq_model.add(Dense(8, activation='relu'))\n",
    "Seq_model.add(Dense(1, activation='sigmoid'))\n",
    "Seq_model.compile(loss= \"binary_crossentropy\" , optimizer=\"adam\", metrics=[\"accuracy\"])\n",
    "Seq_model.summary()"
   ]
  },
  {
   "cell_type": "code",
   "execution_count": 14,
   "metadata": {},
   "outputs": [
    {
     "name": "stdout",
     "output_type": "stream",
     "text": [
      "Epoch 1/30\n",
      "\u001b[1m797/797\u001b[0m \u001b[32m━━━━━━━━━━━━━━━━━━━━\u001b[0m\u001b[37m\u001b[0m \u001b[1m3s\u001b[0m 2ms/step - accuracy: 0.8121 - loss: 0.4238 - val_accuracy: 0.8378 - val_loss: 0.3818\n",
      "Epoch 2/30\n",
      "\u001b[1m797/797\u001b[0m \u001b[32m━━━━━━━━━━━━━━━━━━━━\u001b[0m\u001b[37m\u001b[0m \u001b[1m1s\u001b[0m 2ms/step - accuracy: 0.8421 - loss: 0.3640 - val_accuracy: 0.8420 - val_loss: 0.3704\n",
      "Epoch 3/30\n",
      "\u001b[1m797/797\u001b[0m \u001b[32m━━━━━━━━━━━━━━━━━━━━\u001b[0m\u001b[37m\u001b[0m \u001b[1m1s\u001b[0m 2ms/step - accuracy: 0.8431 - loss: 0.3630 - val_accuracy: 0.8450 - val_loss: 0.3622\n",
      "Epoch 4/30\n",
      "\u001b[1m797/797\u001b[0m \u001b[32m━━━━━━━━━━━━━━━━━━━━\u001b[0m\u001b[37m\u001b[0m \u001b[1m1s\u001b[0m 2ms/step - accuracy: 0.8474 - loss: 0.3548 - val_accuracy: 0.8348 - val_loss: 0.3753\n",
      "Epoch 5/30\n",
      "\u001b[1m797/797\u001b[0m \u001b[32m━━━━━━━━━━━━━━━━━━━━\u001b[0m\u001b[37m\u001b[0m \u001b[1m1s\u001b[0m 2ms/step - accuracy: 0.8461 - loss: 0.3545 - val_accuracy: 0.8432 - val_loss: 0.3658\n",
      "Epoch 6/30\n",
      "\u001b[1m797/797\u001b[0m \u001b[32m━━━━━━━━━━━━━━━━━━━━\u001b[0m\u001b[37m\u001b[0m \u001b[1m1s\u001b[0m 2ms/step - accuracy: 0.8484 - loss: 0.3496 - val_accuracy: 0.8431 - val_loss: 0.3654\n",
      "Epoch 7/30\n",
      "\u001b[1m797/797\u001b[0m \u001b[32m━━━━━━━━━━━━━━━━━━━━\u001b[0m\u001b[37m\u001b[0m \u001b[1m1s\u001b[0m 2ms/step - accuracy: 0.8487 - loss: 0.3479 - val_accuracy: 0.8447 - val_loss: 0.3602\n",
      "Epoch 8/30\n",
      "\u001b[1m797/797\u001b[0m \u001b[32m━━━━━━━━━━━━━━━━━━━━\u001b[0m\u001b[37m\u001b[0m \u001b[1m1s\u001b[0m 2ms/step - accuracy: 0.8488 - loss: 0.3490 - val_accuracy: 0.8482 - val_loss: 0.3578\n",
      "Epoch 9/30\n",
      "\u001b[1m797/797\u001b[0m \u001b[32m━━━━━━━━━━━━━━━━━━━━\u001b[0m\u001b[37m\u001b[0m \u001b[1m1s\u001b[0m 2ms/step - accuracy: 0.8498 - loss: 0.3448 - val_accuracy: 0.8454 - val_loss: 0.3583\n",
      "Epoch 10/30\n",
      "\u001b[1m797/797\u001b[0m \u001b[32m━━━━━━━━━━━━━━━━━━━━\u001b[0m\u001b[37m\u001b[0m \u001b[1m1s\u001b[0m 2ms/step - accuracy: 0.8508 - loss: 0.3443 - val_accuracy: 0.8360 - val_loss: 0.3720\n",
      "Epoch 11/30\n",
      "\u001b[1m797/797\u001b[0m \u001b[32m━━━━━━━━━━━━━━━━━━━━\u001b[0m\u001b[37m\u001b[0m \u001b[1m1s\u001b[0m 2ms/step - accuracy: 0.8539 - loss: 0.3388 - val_accuracy: 0.8475 - val_loss: 0.3565\n",
      "Epoch 12/30\n",
      "\u001b[1m797/797\u001b[0m \u001b[32m━━━━━━━━━━━━━━━━━━━━\u001b[0m\u001b[37m\u001b[0m \u001b[1m1s\u001b[0m 2ms/step - accuracy: 0.8541 - loss: 0.3376 - val_accuracy: 0.8474 - val_loss: 0.3589\n",
      "Epoch 13/30\n",
      "\u001b[1m797/797\u001b[0m \u001b[32m━━━━━━━━━━━━━━━━━━━━\u001b[0m\u001b[37m\u001b[0m \u001b[1m1s\u001b[0m 2ms/step - accuracy: 0.8559 - loss: 0.3348 - val_accuracy: 0.8452 - val_loss: 0.3591\n",
      "Epoch 14/30\n",
      "\u001b[1m797/797\u001b[0m \u001b[32m━━━━━━━━━━━━━━━━━━━━\u001b[0m\u001b[37m\u001b[0m \u001b[1m1s\u001b[0m 2ms/step - accuracy: 0.8552 - loss: 0.3322 - val_accuracy: 0.8473 - val_loss: 0.3591\n",
      "Epoch 15/30\n",
      "\u001b[1m797/797\u001b[0m \u001b[32m━━━━━━━━━━━━━━━━━━━━\u001b[0m\u001b[37m\u001b[0m \u001b[1m1s\u001b[0m 2ms/step - accuracy: 0.8555 - loss: 0.3361 - val_accuracy: 0.8487 - val_loss: 0.3574\n",
      "Epoch 16/30\n",
      "\u001b[1m797/797\u001b[0m \u001b[32m━━━━━━━━━━━━━━━━━━━━\u001b[0m\u001b[37m\u001b[0m \u001b[1m1s\u001b[0m 2ms/step - accuracy: 0.8565 - loss: 0.3316 - val_accuracy: 0.8468 - val_loss: 0.3601\n",
      "Epoch 17/30\n",
      "\u001b[1m797/797\u001b[0m \u001b[32m━━━━━━━━━━━━━━━━━━━━\u001b[0m\u001b[37m\u001b[0m \u001b[1m1s\u001b[0m 2ms/step - accuracy: 0.8557 - loss: 0.3301 - val_accuracy: 0.8462 - val_loss: 0.3587\n",
      "Epoch 18/30\n",
      "\u001b[1m797/797\u001b[0m \u001b[32m━━━━━━━━━━━━━━━━━━━━\u001b[0m\u001b[37m\u001b[0m \u001b[1m1s\u001b[0m 2ms/step - accuracy: 0.8562 - loss: 0.3306 - val_accuracy: 0.8478 - val_loss: 0.3581\n",
      "Epoch 19/30\n",
      "\u001b[1m797/797\u001b[0m \u001b[32m━━━━━━━━━━━━━━━━━━━━\u001b[0m\u001b[37m\u001b[0m \u001b[1m1s\u001b[0m 2ms/step - accuracy: 0.8627 - loss: 0.3240 - val_accuracy: 0.8482 - val_loss: 0.3592\n",
      "Epoch 20/30\n",
      "\u001b[1m797/797\u001b[0m \u001b[32m━━━━━━━━━━━━━━━━━━━━\u001b[0m\u001b[37m\u001b[0m \u001b[1m1s\u001b[0m 2ms/step - accuracy: 0.8596 - loss: 0.3247 - val_accuracy: 0.8477 - val_loss: 0.3607\n",
      "Epoch 21/30\n",
      "\u001b[1m797/797\u001b[0m \u001b[32m━━━━━━━━━━━━━━━━━━━━\u001b[0m\u001b[37m\u001b[0m \u001b[1m1s\u001b[0m 2ms/step - accuracy: 0.8578 - loss: 0.3242 - val_accuracy: 0.8464 - val_loss: 0.3622\n"
     ]
    }
   ],
   "source": [
    "# Define early stopping to prevent overfitting\n",
    "early_stopping = EarlyStopping(monitor='val_loss', patience=10, restore_best_weights=True)\n",
    "# Train the model\n",
    "history = Seq_model.fit(\n",
    "    X_train, y_train,\n",
    "    epochs=30,\n",
    "    batch_size=100,\n",
    "    validation_data=(X_test, y_test),\n",
    "    callbacks=[early_stopping]\n",
    ")"
   ]
  },
  {
   "cell_type": "code",
   "execution_count": 15,
   "metadata": {},
   "outputs": [
    {
     "name": "stdout",
     "output_type": "stream",
     "text": [
      "\u001b[1m622/622\u001b[0m \u001b[32m━━━━━━━━━━━━━━━━━━━━\u001b[0m\u001b[37m\u001b[0m \u001b[1m1s\u001b[0m 829us/step - accuracy: 0.8470 - loss: 0.3597\n",
      "The classification accuracy of Neural Network - Sequential model is 84.75%\n"
     ]
    }
   ],
   "source": [
    "Seq_model_score = Seq_model.evaluate(X_test, y_test)\n",
    "accuracy_neural_network = round(Seq_model_score[1]*100, 2)\n",
    "print(\"The classification accuracy of Neural Network - Sequential model is \"+ str(accuracy_neural_network)+\"%\")"
   ]
  },
  {
   "cell_type": "code",
   "execution_count": 36,
   "metadata": {},
   "outputs": [
    {
     "name": "stdout",
     "output_type": "stream",
     "text": [
      "\u001b[1m622/622\u001b[0m \u001b[32m━━━━━━━━━━━━━━━━━━━━\u001b[0m\u001b[37m\u001b[0m \u001b[1m1s\u001b[0m 1ms/step\n",
      "The classification accuracy of Neural Network model is 84.75%\n",
      "The classification precision of Neural Network model is 72.5%\n",
      "The classification recall of Neural Network model is 51.8%\n",
      "The classification F1 of Neural Network model is 60.43%\n"
     ]
    }
   ],
   "source": [
    "#Neural Network Confusion Matrix\n",
    "neural_network_prediction=Seq_model.predict(X_test)\n",
    "y_pred_nn=[]\n",
    "for n in neural_network_prediction:\n",
    "    if n>0.5:\n",
    "        y_pred_nn.append(1)\n",
    "    else:\n",
    "        y_pred_nn.append(0)\n",
    "accuracy_nn = round(accuracy_score(y_test, y_pred_nn)*100,2)\n",
    "precision_nn=round(precision_score(y_test,y_pred_nn)*100,2)\n",
    "recall_nn=round(recall_score(y_test,y_pred_nn)*100,2)\n",
    "f1_nn=round(f1_score(y_test,y_pred_nn)*100,2)\n",
    "print(\"The classification accuracy of Neural Network model is \"+ str(accuracy_nn)+\"%\")\n",
    "print(\"The classification precision of Neural Network model is \"+ str(precision_nn)+\"%\")\n",
    "print(\"The classification recall of Neural Network model is \"+ str(recall_nn)+\"%\")\n",
    "print(\"The classification F1 of Neural Network model is \"+ str(f1_nn)+\"%\")"
   ]
  },
  {
   "cell_type": "code",
   "execution_count": null,
   "metadata": {},
   "outputs": [
    {
     "name": "stdout",
     "output_type": "stream",
     "text": [
      "\u001b[1m622/622\u001b[0m \u001b[32m━━━━━━━━━━━━━━━━━━━━\u001b[0m\u001b[37m\u001b[0m \u001b[1m1s\u001b[0m 1ms/step\n"
     ]
    },
    {
     "data": {
      "image/png": "[encoded data removed]",
      "text/plain": [
       "<Figure size 640x480 with 2 Axes>"
      ]
     },
     "metadata": {},
     "output_type": "display_data"
    }
   ],
   "source": [
    "\n",
    "conMat(y_test,y_pred_nn,'Neural Network Confusion Matrix')"
   ]
  },
  {
   "cell_type": "code",
   "execution_count": 37,
   "metadata": {},
   "outputs": [
    {
     "data": {
      "text/html": [
       "<div>\n",
       "<style scoped>\n",
       "    .dataframe tbody tr th:only-of-type {\n",
       "        vertical-align: middle;\n",
       "    }\n",
       "\n",
       "    .dataframe tbody tr th {\n",
       "        vertical-align: top;\n",
       "    }\n",
       "\n",
       "    .dataframe thead th {\n",
       "        text-align: right;\n",
       "    }\n",
       "</style>\n",
       "<table border=\"1\" class=\"dataframe\">\n",
       "  <thead>\n",
       "    <tr style=\"text-align: right;\">\n",
       "      <th></th>\n",
       "      <th>Scores</th>\n",
       "    </tr>\n",
       "  </thead>\n",
       "  <tbody>\n",
       "    <tr>\n",
       "      <th>KNN</th>\n",
       "      <td>82.14</td>\n",
       "    </tr>\n",
       "    <tr>\n",
       "      <th>Decision Tree</th>\n",
       "      <td>78.17</td>\n",
       "    </tr>\n",
       "    <tr>\n",
       "      <th>Random Forest</th>\n",
       "      <td>84.84</td>\n",
       "    </tr>\n",
       "    <tr>\n",
       "      <th>SVM</th>\n",
       "      <td>83.92</td>\n",
       "    </tr>\n",
       "    <tr>\n",
       "      <th>Neural Network</th>\n",
       "      <td>84.75</td>\n",
       "    </tr>\n",
       "  </tbody>\n",
       "</table>\n",
       "</div>"
      ],
      "text/plain": [
       "                Scores\n",
       "KNN              82.14\n",
       "Decision Tree    78.17\n",
       "Random Forest    84.84\n",
       "SVM              83.92\n",
       "Neural Network   84.75"
      ]
     },
     "execution_count": 37,
     "metadata": {},
     "output_type": "execute_result"
    }
   ],
   "source": [
    "#Model Comparison\n",
    "model_score={}\n",
    "model_score['KNN']=accuracy_knn\n",
    "model_score['Decision Tree']=accuracy_dtree\n",
    "model_score['Random Forest']=accuracy_rforest\n",
    "model_score['SVM']=accuracy_svm\n",
    "model_score['Neural Network']=accuracy_neural_network\n",
    "#View as Table\n",
    "model_table = pd.DataFrame(model_score, index = [\"Scores\"])\n",
    "model_table.T"
   ]
  },
  {
   "cell_type": "code",
   "execution_count": 38,
   "metadata": {},
   "outputs": [
    {
     "data": {
      "text/plain": [
       "<Axes: >"
      ]
     },
     "execution_count": 38,
     "metadata": {},
     "output_type": "execute_result"
    },
    {
     "data": {
      "image/png": "[encoded data removed]",
      "text/plain": [
       "<Figure size 1000x600 with 1 Axes>"
      ]
     },
     "metadata": {},
     "output_type": "display_data"
    }
   ],
   "source": [
    "#View Graph\n",
    "model_compare = pd.DataFrame(model_score, index = [\"Accuracy\"])\n",
    "model_compare.T.plot.bar(figsize = (10, 6))"
   ]
  },
  {
   "cell_type": "code",
   "execution_count": 25,
   "metadata": {},
   "outputs": [
    {
     "name": "stdout",
     "output_type": "stream",
     "text": [
      "Fitting 3 folds for each of 10 candidates, totalling 30 fits\n"
     ]
    },
    {
     "name": "stderr",
     "output_type": "stream",
     "text": [
      "/home/arramos/BYUI/CS 499/weather-rainfall-prediction/.venv/lib/python3.11/site-packages/sklearn/model_selection/_validation.py:540: FitFailedWarning: \n",
      "21 fits failed out of a total of 30.\n",
      "The score on these train-test partitions for these parameters will be set to nan.\n",
      "If these failures are not expected, you can try to debug them by setting error_score='raise'.\n",
      "\n",
      "Below are more details about the failures:\n",
      "--------------------------------------------------------------------------------\n",
      "3 fits failed with the following error:\n",
      "Traceback (most recent call last):\n",
      "  File \"/home/arramos/BYUI/CS 499/weather-rainfall-prediction/.venv/lib/python3.11/site-packages/sklearn/model_selection/_validation.py\", line 888, in _fit_and_score\n",
      "    estimator.fit(X_train, y_train, **fit_params)\n",
      "  File \"/home/arramos/BYUI/CS 499/weather-rainfall-prediction/.venv/lib/python3.11/site-packages/sklearn/base.py\", line 1466, in wrapper\n",
      "    estimator._validate_params()\n",
      "  File \"/home/arramos/BYUI/CS 499/weather-rainfall-prediction/.venv/lib/python3.11/site-packages/sklearn/base.py\", line 666, in _validate_params\n",
      "    validate_parameter_constraints(\n",
      "  File \"/home/arramos/BYUI/CS 499/weather-rainfall-prediction/.venv/lib/python3.11/site-packages/sklearn/utils/_param_validation.py\", line 95, in validate_parameter_constraints\n",
      "    raise InvalidParameterError(\n",
      "sklearn.utils._param_validation.InvalidParameterError: The 'min_samples_split' parameter of RandomForestClassifier must be an int in the range [2, inf) or a float in the range (0.0, 1.0]. Got 1 instead.\n",
      "\n",
      "--------------------------------------------------------------------------------\n",
      "10 fits failed with the following error:\n",
      "Traceback (most recent call last):\n",
      "  File \"/home/arramos/BYUI/CS 499/weather-rainfall-prediction/.venv/lib/python3.11/site-packages/sklearn/model_selection/_validation.py\", line 888, in _fit_and_score\n",
      "    estimator.fit(X_train, y_train, **fit_params)\n",
      "  File \"/home/arramos/BYUI/CS 499/weather-rainfall-prediction/.venv/lib/python3.11/site-packages/sklearn/base.py\", line 1466, in wrapper\n",
      "    estimator._validate_params()\n",
      "  File \"/home/arramos/BYUI/CS 499/weather-rainfall-prediction/.venv/lib/python3.11/site-packages/sklearn/base.py\", line 666, in _validate_params\n",
      "    validate_parameter_constraints(\n",
      "  File \"/home/arramos/BYUI/CS 499/weather-rainfall-prediction/.venv/lib/python3.11/site-packages/sklearn/utils/_param_validation.py\", line 95, in validate_parameter_constraints\n",
      "    raise InvalidParameterError(\n",
      "sklearn.utils._param_validation.InvalidParameterError: The 'max_features' parameter of RandomForestClassifier must be an int in the range [1, inf), a float in the range (0.0, 1.0], a str among {'log2', 'sqrt'} or None. Got 'auto' instead.\n",
      "\n",
      "--------------------------------------------------------------------------------\n",
      "8 fits failed with the following error:\n",
      "Traceback (most recent call last):\n",
      "  File \"/home/arramos/BYUI/CS 499/weather-rainfall-prediction/.venv/lib/python3.11/site-packages/sklearn/model_selection/_validation.py\", line 888, in _fit_and_score\n",
      "    estimator.fit(X_train, y_train, **fit_params)\n",
      "  File \"/home/arramos/BYUI/CS 499/weather-rainfall-prediction/.venv/lib/python3.11/site-packages/sklearn/base.py\", line 1466, in wrapper\n",
      "    estimator._validate_params()\n",
      "  File \"/home/arramos/BYUI/CS 499/weather-rainfall-prediction/.venv/lib/python3.11/site-packages/sklearn/base.py\", line 666, in _validate_params\n",
      "    validate_parameter_constraints(\n",
      "  File \"/home/arramos/BYUI/CS 499/weather-rainfall-prediction/.venv/lib/python3.11/site-packages/sklearn/utils/_param_validation.py\", line 95, in validate_parameter_constraints\n",
      "    raise InvalidParameterError(\n",
      "sklearn.utils._param_validation.InvalidParameterError: The 'max_features' parameter of RandomForestClassifier must be an int in the range [1, inf), a float in the range (0.0, 1.0], a str among {'sqrt', 'log2'} or None. Got 'auto' instead.\n",
      "\n",
      "  warnings.warn(some_fits_failed_message, FitFailedWarning)\n",
      "/home/arramos/BYUI/CS 499/weather-rainfall-prediction/.venv/lib/python3.11/site-packages/sklearn/model_selection/_search.py:1103: UserWarning: One or more of the test scores are non-finite: [       nan        nan 0.84900516        nan        nan        nan\n",
      " 0.84931918        nan        nan 0.84580213]\n",
      "  warnings.warn(\n"
     ]
    },
    {
     "name": "stdout",
     "output_type": "stream",
     "text": [
      "Results from Random Search ::\n",
      "\n",
      "The best estimator across ALL searched params:\n",
      " RandomForestClassifier(bootstrap=False, max_depth=20, min_samples_leaf=3,\n",
      "                       min_samples_split=3, n_estimators=200, random_state=20)\n",
      "\n",
      "The best parameters across ALL searched params:\n",
      " {'random_state': 20, 'n_estimators': 200, 'min_samples_split': 3, 'min_samples_leaf': 3, 'max_features': 'sqrt', 'max_depth': 20, 'criterion': 'gini', 'bootstrap': False}\n"
     ]
    }
   ],
   "source": [
    "#Hyper Parameter for Random Forest\n",
    "n_estimators = [100, 150, 200]\n",
    "max_depth = [10, 15, 20]\n",
    "criterion = ['gini', 'entropy']\n",
    "bootstrap = [True,False]\n",
    "random_state = [10, 20]\n",
    "max_features = ['auto', 'sqrt']\n",
    "min_samples_split = [1, 2, 3]\n",
    "min_samples_leaf = [1, 2, 3]\n",
    "\n",
    "hyperF = dict(n_estimators = n_estimators, max_depth = max_depth,\n",
    "              criterion = criterion, bootstrap = bootstrap,\n",
    "              random_state = random_state, max_features = max_features, \n",
    "              min_samples_split = min_samples_split,\n",
    "              min_samples_leaf = min_samples_leaf)\n",
    "\n",
    "randF = RandomizedSearchCV(rforest_model, hyperF, cv = 3, verbose = 1, n_jobs = -1)\n",
    "bestF = randF.fit(X_train, y_train)\n",
    "print(\"Results from Random Search ::\" )\n",
    "print(\"\\nThe best estimator across ALL searched params:\\n\", randF.best_estimator_)\n",
    "print(\"\\nThe best parameters across ALL searched params:\\n\", randF.best_params_)"
   ]
  },
  {
   "cell_type": "code",
   "execution_count": 26,
   "metadata": {},
   "outputs": [
    {
     "name": "stdout",
     "output_type": "stream",
     "text": [
      "The classification accuracy of Random Forest with Hyperparameters is 84.73%\n"
     ]
    }
   ],
   "source": [
    "#Accuracy of random forest with hyperparameters\n",
    "rforest_model_hp = RandomForestClassifier(**randF.best_params_)\n",
    "rforest_model_hp.fit(X_train, y_train)\n",
    "rforest_model_hp_score = rforest_model_hp.score(X_test, y_test)\n",
    "accuracy_rforst_hp = round(rforest_model_hp_score*100, 2)\n",
    "print(\"The classification accuracy of Random Forest with Hyperparameters is \"+ str(accuracy_rforst_hp)+\"%\")"
   ]
  },
  {
   "cell_type": "code",
   "execution_count": 27,
   "metadata": {},
   "outputs": [],
   "source": [
    "#Hyperparameter for Neural Network\n",
    "def model_builder(hp):\n",
    "    model = keras.Sequential()\n",
    "    hp_units = hp.Int('units', min_value=32, max_value=512, step=32)\n",
    "     # Tune the number of units in the first Dense layer\n",
    "    # Choose an optimal value between 32-512\n",
    "    hp_units = hp.Int('units', min_value=32, max_value=512, step=32)\n",
    "    model.add(keras.layers.Dense(units=hp_units, activation='relu'))\n",
    "    model.add(keras.layers.Dense(10))\n",
    "\n",
    "    # Tune the learning rate for the optimizer\n",
    "    # Choose an optimal value from 0.01, 0.001, or 0.0001\n",
    "    hp_learning_rate = hp.Choice('learning_rate', values=[1e-2, 1e-3, 1e-4])\n",
    "    model.compile(optimizer=keras.optimizers.Adam(learning_rate=hp_learning_rate),\n",
    "                loss=keras.losses.SparseCategoricalCrossentropy(from_logits=True),\n",
    "                metrics=['accuracy'])\n",
    "    return model"
   ]
  },
  {
   "cell_type": "code",
   "execution_count": 29,
   "metadata": {},
   "outputs": [
    {
     "name": "stdout",
     "output_type": "stream",
     "text": [
      "Trial 30 Complete [00h 00m 28s]\n",
      "val_accuracy: 0.8459461331367493\n",
      "\n",
      "Best val_accuracy So Far: 0.8461345434188843\n",
      "Total elapsed time: 00h 07m 13s\n",
      "\n",
      "The hyperparameter search is complete. The optimal number of units in the first densely-connected\n",
      "layer is 480 and the optimal learning rate for the optimizer\n",
      "is 0.001.\n",
      "\n"
     ]
    }
   ],
   "source": [
    "#Configure tuner\n",
    "tuner = kt.Hyperband(model_builder, # the hypermodel\n",
    "                     objective='val_accuracy', # objective to optimize\n",
    "max_epochs=10,\n",
    "factor=3, # factor which you have seen above \n",
    "directory='dir', # directory to save logs \n",
    "project_name='khyperband')\n",
    "\n",
    "#Searchin\n",
    "stop_early = EarlyStopping(monitor='val_loss', patience=5)\n",
    "tuner.search(X_train, y_train, epochs=50, validation_split=0.2, callbacks=[stop_early])\n",
    "\n",
    "# Get the optimal hyperparameters\n",
    "best_hps=tuner.get_best_hyperparameters(num_trials=1)[0]\n",
    "print(f\"\"\"\n",
    "The hyperparameter search is complete. The optimal number of units in the first densely-connected\n",
    "layer is {best_hps.get('units')} and the optimal learning rate for the optimizer\n",
    "is {best_hps.get('learning_rate')}.\n",
    "\"\"\")"
   ]
  },
  {
   "cell_type": "code",
   "execution_count": 39,
   "metadata": {},
   "outputs": [
    {
     "data": {
      "text/plain": [
       "['rainfall.mdl']"
      ]
     },
     "execution_count": 39,
     "metadata": {},
     "output_type": "execute_result"
    }
   ],
   "source": [
    "#Saving serialized model X \n",
    "joblib.dump(rforest_model, 'rainfall.mdl')"
   ]
  }
 ],
 "metadata": {
  "kernelspec": {
   "display_name": ".venv",
   "language": "python",
   "name": "python3"
  },
  "language_info": {
   "codemirror_mode": {
    "name": "ipython",
    "version": 3
   },
   "file_extension": ".py",
   "mimetype": "text/x-python",
   "name": "python",
   "nbconvert_exporter": "python",
   "pygments_lexer": "ipython3",
   "version": "3.11.2"
  }
 },
 "nbformat": 4,
 "nbformat_minor": 2
}
