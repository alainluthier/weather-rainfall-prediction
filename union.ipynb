{
 "cells": [
  {
   "cell_type": "code",
   "execution_count": 16,
   "metadata": {},
   "outputs": [],
   "source": [
    "#Importing libraries\n",
    "import numpy as np\n",
    "import pandas as pd\n",
    "from sklearn.metrics import confusion_matrix\n",
    "import seaborn as sns\n",
    "from sklearn.preprocessing import StandardScaler\n",
    "from sklearn.preprocessing import LabelEncoder\n",
    "from sklearn.model_selection import train_test_split\n",
    "import tensorflow as tf\n",
    "from tensorflow import keras\n",
    "from tensorflow.keras.models import Sequential\n",
    "from tensorflow.keras.layers import Dense, Dropout\n",
    "from tensorflow.keras.callbacks import EarlyStopping\n",
    "from sklearn.neighbors import KNeighborsClassifier\n",
    "from sklearn.tree import DecisionTreeClassifier\n",
    "from sklearn.ensemble import RandomForestClassifier"
   ]
  },
  {
   "cell_type": "code",
   "execution_count": null,
   "metadata": {},
   "outputs": [],
   "source": [
    "#Reading training data\n",
    "weather=pd.read_csv('Weather Training Data.csv')\n",
    "weather.head(10)"
   ]
  },
  {
   "cell_type": "code",
   "execution_count": 2,
   "metadata": {},
   "outputs": [
    {
     "name": "stdout",
     "output_type": "stream",
     "text": [
      "<class 'pandas.core.frame.DataFrame'>\n",
      "RangeIndex: 99516 entries, 0 to 99515\n",
      "Data columns (total 23 columns):\n",
      " #   Column         Non-Null Count  Dtype  \n",
      "---  ------         --------------  -----  \n",
      " 0   row ID         99516 non-null  object \n",
      " 1   Location       99516 non-null  object \n",
      " 2   MinTemp        99073 non-null  float64\n",
      " 3   MaxTemp        99286 non-null  float64\n",
      " 4   Rainfall       98537 non-null  float64\n",
      " 5   Evaporation    56985 non-null  float64\n",
      " 6   Sunshine       52199 non-null  float64\n",
      " 7   WindGustDir    92995 non-null  object \n",
      " 8   WindGustSpeed  93036 non-null  float64\n",
      " 9   WindDir9am     92510 non-null  object \n",
      " 10  WindDir3pm     96868 non-null  object \n",
      " 11  WindSpeed9am   98581 non-null  float64\n",
      " 12  WindSpeed3pm   97681 non-null  float64\n",
      " 13  Humidity9am    98283 non-null  float64\n",
      " 14  Humidity3pm    97010 non-null  float64\n",
      " 15  Pressure9am    89768 non-null  float64\n",
      " 16  Pressure3pm    89780 non-null  float64\n",
      " 17  Cloud9am       61944 non-null  float64\n",
      " 18  Cloud3pm       59514 non-null  float64\n",
      " 19  Temp9am        98902 non-null  float64\n",
      " 20  Temp3pm        97612 non-null  float64\n",
      " 21  RainToday      98537 non-null  object \n",
      " 22  RainTomorrow   99516 non-null  int64  \n",
      "dtypes: float64(16), int64(1), object(6)\n",
      "memory usage: 17.5+ MB\n"
     ]
    }
   ],
   "source": [
    "#Information about data\n",
    "weather.info()"
   ]
  },
  {
   "cell_type": "code",
   "execution_count": 3,
   "metadata": {},
   "outputs": [
    {
     "data": {
      "text/plain": [
       "row ID            0.000000\n",
       "Location          0.000000\n",
       "MinTemp           0.445155\n",
       "MaxTemp           0.231119\n",
       "Rainfall          0.983761\n",
       "Evaporation      42.737851\n",
       "Sunshine         47.547128\n",
       "WindGustDir       6.552715\n",
       "WindGustSpeed     6.511516\n",
       "WindDir9am        7.040074\n",
       "WindDir3pm        2.660879\n",
       "WindSpeed9am      0.939547\n",
       "WindSpeed3pm      1.843925\n",
       "Humidity9am       1.238997\n",
       "Humidity3pm       2.518188\n",
       "Pressure9am       9.795410\n",
       "Pressure3pm       9.783351\n",
       "Cloud9am         37.754733\n",
       "Cloud3pm         40.196551\n",
       "Temp9am           0.616986\n",
       "Temp3pm           1.913260\n",
       "RainToday         0.983761\n",
       "RainTomorrow      0.000000\n",
       "dtype: float64"
      ]
     },
     "execution_count": 3,
     "metadata": {},
     "output_type": "execute_result"
    }
   ],
   "source": [
    "#verifying percentage of missing values\n",
    "weather.isnull().mean()*100"
   ]
  },
  {
   "cell_type": "code",
   "execution_count": 4,
   "metadata": {},
   "outputs": [],
   "source": [
    "#removing features with missing values more than 30% and irrelevant features\n",
    "weather=weather.drop(['row ID','Location','Evaporation','Sunshine','Cloud9am','Cloud3pm'],axis=1)"
   ]
  },
  {
   "cell_type": "code",
   "execution_count": 5,
   "metadata": {},
   "outputs": [
    {
     "name": "stdout",
     "output_type": "stream",
     "text": [
      "<class 'pandas.core.frame.DataFrame'>\n",
      "RangeIndex: 99516 entries, 0 to 99515\n",
      "Data columns (total 17 columns):\n",
      " #   Column         Non-Null Count  Dtype  \n",
      "---  ------         --------------  -----  \n",
      " 0   MinTemp        99516 non-null  float64\n",
      " 1   MaxTemp        99516 non-null  float64\n",
      " 2   Rainfall       99516 non-null  float64\n",
      " 3   WindGustDir    99516 non-null  object \n",
      " 4   WindGustSpeed  99516 non-null  float64\n",
      " 5   WindDir9am     99516 non-null  object \n",
      " 6   WindDir3pm     99516 non-null  object \n",
      " 7   WindSpeed9am   99516 non-null  float64\n",
      " 8   WindSpeed3pm   99516 non-null  float64\n",
      " 9   Humidity9am    99516 non-null  float64\n",
      " 10  Humidity3pm    99516 non-null  float64\n",
      " 11  Pressure9am    99516 non-null  float64\n",
      " 12  Pressure3pm    99516 non-null  float64\n",
      " 13  Temp9am        99516 non-null  float64\n",
      " 14  Temp3pm        99516 non-null  float64\n",
      " 15  RainToday      99516 non-null  object \n",
      " 16  RainTomorrow   99516 non-null  int64  \n",
      "dtypes: float64(12), int64(1), object(4)\n",
      "memory usage: 12.9+ MB\n"
     ]
    }
   ],
   "source": [
    "#fill missing continous features\n",
    "continous_columns = weather.select_dtypes(include=['float64','int64']).drop(['RainTomorrow'],axis=1).columns\n",
    "for c in continous_columns:\n",
    "    mean = weather[c].mean()\n",
    "    weather[c]=weather[c].fillna(mean)\n",
    "\n",
    "#fill missing categorical features\n",
    "categorical_columns = weather.select_dtypes(include=['object']).columns\n",
    "for c in categorical_columns:\n",
    "    most_frequent_value = weather[c].mode()[0]\n",
    "    weather[c]=weather[c].fillna(most_frequent_value)\n",
    "weather.info()"
   ]
  },
  {
   "cell_type": "code",
   "execution_count": 6,
   "metadata": {},
   "outputs": [
    {
     "data": {
      "text/html": [
       "<div>\n",
       "<style scoped>\n",
       "    .dataframe tbody tr th:only-of-type {\n",
       "        vertical-align: middle;\n",
       "    }\n",
       "\n",
       "    .dataframe tbody tr th {\n",
       "        vertical-align: top;\n",
       "    }\n",
       "\n",
       "    .dataframe thead th {\n",
       "        text-align: right;\n",
       "    }\n",
       "</style>\n",
       "<table border=\"1\" class=\"dataframe\">\n",
       "  <thead>\n",
       "    <tr style=\"text-align: right;\">\n",
       "      <th></th>\n",
       "      <th>MinTemp</th>\n",
       "      <th>MaxTemp</th>\n",
       "      <th>Rainfall</th>\n",
       "      <th>WindGustDir</th>\n",
       "      <th>WindGustSpeed</th>\n",
       "      <th>WindDir9am</th>\n",
       "      <th>WindDir3pm</th>\n",
       "      <th>WindSpeed9am</th>\n",
       "      <th>WindSpeed3pm</th>\n",
       "      <th>Humidity9am</th>\n",
       "      <th>Humidity3pm</th>\n",
       "      <th>Pressure9am</th>\n",
       "      <th>Pressure3pm</th>\n",
       "      <th>Temp9am</th>\n",
       "      <th>Temp3pm</th>\n",
       "      <th>RainToday</th>\n",
       "      <th>RainTomorrow</th>\n",
       "    </tr>\n",
       "  </thead>\n",
       "  <tbody>\n",
       "    <tr>\n",
       "      <th>0</th>\n",
       "      <td>0.191910</td>\n",
       "      <td>-0.044818</td>\n",
       "      <td>-0.207557</td>\n",
       "      <td>13</td>\n",
       "      <td>0.306357</td>\n",
       "      <td>13</td>\n",
       "      <td>14</td>\n",
       "      <td>0.676626</td>\n",
       "      <td>0.613461</td>\n",
       "      <td>0.112555</td>\n",
       "      <td>-1.434774</td>\n",
       "      <td>-1.478566</td>\n",
       "      <td>-1.223345</td>\n",
       "      <td>-0.010827</td>\n",
       "      <td>0.017285</td>\n",
       "      <td>0</td>\n",
       "      <td>0</td>\n",
       "    </tr>\n",
       "    <tr>\n",
       "      <th>1</th>\n",
       "      <td>-0.749029</td>\n",
       "      <td>0.264744</td>\n",
       "      <td>-0.278597</td>\n",
       "      <td>14</td>\n",
       "      <td>0.306357</td>\n",
       "      <td>6</td>\n",
       "      <td>15</td>\n",
       "      <td>-1.129170</td>\n",
       "      <td>0.384110</td>\n",
       "      <td>-1.311772</td>\n",
       "      <td>-1.288534</td>\n",
       "      <td>-1.049122</td>\n",
       "      <td>-1.118737</td>\n",
       "      <td>0.035548</td>\n",
       "      <td>0.381450</td>\n",
       "      <td>0</td>\n",
       "      <td>0</td>\n",
       "    </tr>\n",
       "    <tr>\n",
       "      <th>2</th>\n",
       "      <td>0.834885</td>\n",
       "      <td>1.277857</td>\n",
       "      <td>-0.160198</td>\n",
       "      <td>13</td>\n",
       "      <td>0.077905</td>\n",
       "      <td>1</td>\n",
       "      <td>7</td>\n",
       "      <td>-0.790583</td>\n",
       "      <td>0.154759</td>\n",
       "      <td>0.692836</td>\n",
       "      <td>-0.898561</td>\n",
       "      <td>-1.019505</td>\n",
       "      <td>-1.387729</td>\n",
       "      <td>0.128300</td>\n",
       "      <td>1.168047</td>\n",
       "      <td>0</td>\n",
       "      <td>0</td>\n",
       "    </tr>\n",
       "    <tr>\n",
       "      <th>3</th>\n",
       "      <td>0.380098</td>\n",
       "      <td>0.912011</td>\n",
       "      <td>-0.254917</td>\n",
       "      <td>14</td>\n",
       "      <td>1.220168</td>\n",
       "      <td>13</td>\n",
       "      <td>13</td>\n",
       "      <td>0.563764</td>\n",
       "      <td>0.613461</td>\n",
       "      <td>-0.731491</td>\n",
       "      <td>-1.386028</td>\n",
       "      <td>-1.256440</td>\n",
       "      <td>-1.477393</td>\n",
       "      <td>0.561142</td>\n",
       "      <td>1.051514</td>\n",
       "      <td>0</td>\n",
       "      <td>0</td>\n",
       "    </tr>\n",
       "    <tr>\n",
       "      <th>4</th>\n",
       "      <td>-0.701982</td>\n",
       "      <td>0.489880</td>\n",
       "      <td>-0.278597</td>\n",
       "      <td>13</td>\n",
       "      <td>-0.379000</td>\n",
       "      <td>10</td>\n",
       "      <td>13</td>\n",
       "      <td>-0.903445</td>\n",
       "      <td>-0.189268</td>\n",
       "      <td>-1.100761</td>\n",
       "      <td>-1.581014</td>\n",
       "      <td>-0.634487</td>\n",
       "      <td>-0.775026</td>\n",
       "      <td>-0.103579</td>\n",
       "      <td>0.556249</td>\n",
       "      <td>0</td>\n",
       "      <td>0</td>\n",
       "    </tr>\n",
       "  </tbody>\n",
       "</table>\n",
       "</div>"
      ],
      "text/plain": [
       "    MinTemp   MaxTemp  Rainfall  WindGustDir  WindGustSpeed  WindDir9am  \\\n",
       "0  0.191910 -0.044818 -0.207557           13       0.306357          13   \n",
       "1 -0.749029  0.264744 -0.278597           14       0.306357           6   \n",
       "2  0.834885  1.277857 -0.160198           13       0.077905           1   \n",
       "3  0.380098  0.912011 -0.254917           14       1.220168          13   \n",
       "4 -0.701982  0.489880 -0.278597           13      -0.379000          10   \n",
       "\n",
       "   WindDir3pm  WindSpeed9am  WindSpeed3pm  Humidity9am  Humidity3pm  \\\n",
       "0          14      0.676626      0.613461     0.112555    -1.434774   \n",
       "1          15     -1.129170      0.384110    -1.311772    -1.288534   \n",
       "2           7     -0.790583      0.154759     0.692836    -0.898561   \n",
       "3          13      0.563764      0.613461    -0.731491    -1.386028   \n",
       "4          13     -0.903445     -0.189268    -1.100761    -1.581014   \n",
       "\n",
       "   Pressure9am  Pressure3pm   Temp9am   Temp3pm  RainToday  RainTomorrow  \n",
       "0    -1.478566    -1.223345 -0.010827  0.017285          0             0  \n",
       "1    -1.049122    -1.118737  0.035548  0.381450          0             0  \n",
       "2    -1.019505    -1.387729  0.128300  1.168047          0             0  \n",
       "3    -1.256440    -1.477393  0.561142  1.051514          0             0  \n",
       "4    -0.634487    -0.775026 -0.103579  0.556249          0             0  "
      ]
     },
     "execution_count": 6,
     "metadata": {},
     "output_type": "execute_result"
    }
   ],
   "source": [
    "#Normalization continous features\n",
    "scaler = StandardScaler()\n",
    "weather[continous_columns] = scaler.fit_transform(weather[continous_columns])\n",
    "\n",
    "#Convert categorical features to continous\n",
    "\n",
    "label_encoders={}\n",
    "for c in categorical_columns:\n",
    "    label_encoders[c] = LabelEncoder()\n",
    "    weather[c]=label_encoders[c].fit_transform(weather[c])\n",
    "\n",
    "weather.head()"
   ]
  },
  {
   "cell_type": "code",
   "execution_count": 7,
   "metadata": {},
   "outputs": [],
   "source": [
    "#Divide features=X and target=Y, using 80 % of data for train and 20 % for train\n",
    "X=weather.drop(['RainTomorrow'],axis=1)\n",
    "Y=weather['RainTomorrow']\n",
    "X_train, X_test, y_train, y_test = train_test_split(X, Y, test_size=.2)"
   ]
  },
  {
   "cell_type": "code",
   "execution_count": 12,
   "metadata": {},
   "outputs": [
    {
     "name": "stdout",
     "output_type": "stream",
     "text": [
      "The classification accuracy of KNN model is 82.63%\n"
     ]
    }
   ],
   "source": [
    "#=========\n",
    "#KNN Model\n",
    "clf = KNeighborsClassifier(n_neighbors = 5)\n",
    "#Training\n",
    "clf.fit(X_train,y_train)\n",
    "#Testing accuracy KNN\n",
    "test_predictions = clf.predict(X_test)\n",
    "from sklearn.metrics import accuracy_score\n",
    "score_knn=accuracy_score(y_test, test_predictions)\n",
    "accuracy_knn = round(score_knn*100, 2)\n",
    "print(\"The classification accuracy of KNN model is \"+ str(accuracy_knn)+\"%\")"
   ]
  },
  {
   "cell_type": "code",
   "execution_count": 14,
   "metadata": {},
   "outputs": [
    {
     "name": "stdout",
     "output_type": "stream",
     "text": [
      "The classification accuracy of Decision Tree model is 77.69%\n"
     ]
    }
   ],
   "source": [
    "#=======\n",
    "#Decision Tree Model\n",
    "dtree_model = DecisionTreeClassifier()\n",
    "#Training Model\n",
    "dtree_model.fit(X_train, y_train)\n",
    "#Testing accuracy\n",
    "dtree_model.predict(X_test)\n",
    "dtree_model_score = dtree_model.score(X_test, y_test)\n",
    "accuracy_dtree = round(dtree_model_score*100, 2)\n",
    "print(\"The classification accuracy of Decision Tree model is \"+ str(accuracy_dtree)+\"%\")"
   ]
  },
  {
   "cell_type": "code",
   "execution_count": 17,
   "metadata": {},
   "outputs": [
    {
     "name": "stdout",
     "output_type": "stream",
     "text": [
      "The classification accuracy of Random Forest model is 84.82%\n"
     ]
    }
   ],
   "source": [
    "#======\n",
    "#Random Forest Model\n",
    "rforest_model = RandomForestClassifier()\n",
    "#Training\n",
    "rforest_model.fit(X_train, y_train)\n",
    "#Testing\n",
    "rforest_model.predict(X_test)\n",
    "rforest_model_score = rforest_model.score(X_test, y_test)\n",
    "accuracy_rforest = round(rforest_model_score*100, 2)\n",
    "print(\"The classification accuracy of Random Forest model is \"+ str(accuracy_rforest)+\"%\")"
   ]
  }
 ],
 "metadata": {
  "kernelspec": {
   "display_name": ".venv",
   "language": "python",
   "name": "python3"
  },
  "language_info": {
   "codemirror_mode": {
    "name": "ipython",
    "version": 3
   },
   "file_extension": ".py",
   "mimetype": "text/x-python",
   "name": "python",
   "nbconvert_exporter": "python",
   "pygments_lexer": "ipython3",
   "version": "3.11.2"
  }
 },
 "nbformat": 4,
 "nbformat_minor": 2
}
